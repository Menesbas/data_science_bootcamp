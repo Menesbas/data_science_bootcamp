{
 "cells": [
  {
   "cell_type": "code",
   "execution_count": 1,
   "id": "64d6e599",
   "metadata": {
    "_cell_guid": "b1076dfc-b9ad-4769-8c92-a6c4dae69d19",
    "_uuid": "8f2839f25d086af736a60e9eeb907d3b93b6e0e5",
    "execution": {
     "iopub.execute_input": "2022-02-19T21:13:00.064178Z",
     "iopub.status.busy": "2022-02-19T21:13:00.063476Z",
     "iopub.status.idle": "2022-02-19T21:13:00.079606Z",
     "shell.execute_reply": "2022-02-19T21:13:00.078834Z",
     "shell.execute_reply.started": "2022-02-19T21:12:28.739200Z"
    },
    "papermill": {
     "duration": 0.049944,
     "end_time": "2022-02-19T21:13:00.079773",
     "exception": false,
     "start_time": "2022-02-19T21:13:00.029829",
     "status": "completed"
    },
    "tags": []
   },
   "outputs": [
    {
     "name": "stdout",
     "output_type": "stream",
     "text": [
      "/kaggle/input/tumordataset/data.csv\n",
      "/kaggle/input/accelerometer/accelerometer.csv\n"
     ]
    }
   ],
   "source": [
    "# This Python 3 environment comes with many helpful analytics libraries installed\n",
    "# It is defined by the kaggle/python Docker image: https://github.com/kaggle/docker-python\n",
    "# For example, here's several helpful packages to load\n",
    "\n",
    "import numpy as np # linear algebra\n",
    "import pandas as pd # data processing, CSV file I/O (e.g. pd.read_csv)\n",
    "\n",
    "# Input data files are available in the read-only \"../input/\" directory\n",
    "# For example, running this (by clicking run or pressing Shift+Enter) will list all files under the input directory\n",
    "\n",
    "import os\n",
    "for dirname, _, filenames in os.walk('/kaggle/input'):\n",
    "    for filename in filenames:\n",
    "        print(os.path.join(dirname, filename))\n",
    "\n",
    "# You can write up to 20GB to the current directory (/kaggle/working/) that gets preserved as output when you create a version using \"Save & Run All\" \n",
    "# You can also write temporary files to /kaggle/temp/, but they won't be saved outside of the current session"
   ]
  },
  {
   "cell_type": "markdown",
   "id": "4794535b",
   "metadata": {
    "papermill": {
     "duration": 0.020381,
     "end_time": "2022-02-19T21:13:00.121896",
     "exception": false,
     "start_time": "2022-02-19T21:13:00.101515",
     "status": "completed"
    },
    "tags": []
   },
   "source": [
    "\n",
    "# Linear Regression"
   ]
  },
  {
   "cell_type": "code",
   "execution_count": 2,
   "id": "30ec6567",
   "metadata": {
    "execution": {
     "iopub.execute_input": "2022-02-19T21:13:00.168762Z",
     "iopub.status.busy": "2022-02-19T21:13:00.168123Z",
     "iopub.status.idle": "2022-02-19T21:13:01.507268Z",
     "shell.execute_reply": "2022-02-19T21:13:01.506339Z",
     "shell.execute_reply.started": "2022-02-19T21:12:28.759841Z"
    },
    "papermill": {
     "duration": 1.364718,
     "end_time": "2022-02-19T21:13:01.507423",
     "exception": false,
     "start_time": "2022-02-19T21:13:00.142705",
     "status": "completed"
    },
    "tags": []
   },
   "outputs": [],
   "source": [
    "import numpy as np\n",
    "import pandas as pd\n",
    "import matplotlib.pyplot as plt\n",
    "import seaborn as sns\n",
    "from sklearn.model_selection import train_test_split\n",
    "from sklearn.linear_model import LogisticRegression\n",
    "from sklearn.linear_model import LinearRegression"
   ]
  },
  {
   "cell_type": "code",
   "execution_count": 3,
   "id": "cca3e767",
   "metadata": {
    "execution": {
     "iopub.execute_input": "2022-02-19T21:13:01.555047Z",
     "iopub.status.busy": "2022-02-19T21:13:01.554107Z",
     "iopub.status.idle": "2022-02-19T21:13:01.722257Z",
     "shell.execute_reply": "2022-02-19T21:13:01.722759Z",
     "shell.execute_reply.started": "2022-02-19T21:12:28.767185Z"
    },
    "papermill": {
     "duration": 0.194099,
     "end_time": "2022-02-19T21:13:01.722933",
     "exception": false,
     "start_time": "2022-02-19T21:13:01.528834",
     "status": "completed"
    },
    "tags": []
   },
   "outputs": [
    {
     "data": {
      "text/html": [
       "<div>\n",
       "<style scoped>\n",
       "    .dataframe tbody tr th:only-of-type {\n",
       "        vertical-align: middle;\n",
       "    }\n",
       "\n",
       "    .dataframe tbody tr th {\n",
       "        vertical-align: top;\n",
       "    }\n",
       "\n",
       "    .dataframe thead th {\n",
       "        text-align: right;\n",
       "    }\n",
       "</style>\n",
       "<table border=\"1\" class=\"dataframe\">\n",
       "  <thead>\n",
       "    <tr style=\"text-align: right;\">\n",
       "      <th></th>\n",
       "      <th>wconfid</th>\n",
       "      <th>pctid</th>\n",
       "      <th>x</th>\n",
       "      <th>y</th>\n",
       "      <th>z</th>\n",
       "    </tr>\n",
       "  </thead>\n",
       "  <tbody>\n",
       "    <tr>\n",
       "      <th>0</th>\n",
       "      <td>1</td>\n",
       "      <td>20</td>\n",
       "      <td>1.004</td>\n",
       "      <td>0.090</td>\n",
       "      <td>-0.125</td>\n",
       "    </tr>\n",
       "    <tr>\n",
       "      <th>1</th>\n",
       "      <td>1</td>\n",
       "      <td>20</td>\n",
       "      <td>1.004</td>\n",
       "      <td>-0.043</td>\n",
       "      <td>-0.125</td>\n",
       "    </tr>\n",
       "    <tr>\n",
       "      <th>2</th>\n",
       "      <td>1</td>\n",
       "      <td>20</td>\n",
       "      <td>0.969</td>\n",
       "      <td>0.090</td>\n",
       "      <td>-0.121</td>\n",
       "    </tr>\n",
       "    <tr>\n",
       "      <th>3</th>\n",
       "      <td>1</td>\n",
       "      <td>20</td>\n",
       "      <td>0.973</td>\n",
       "      <td>-0.012</td>\n",
       "      <td>-0.137</td>\n",
       "    </tr>\n",
       "    <tr>\n",
       "      <th>4</th>\n",
       "      <td>1</td>\n",
       "      <td>20</td>\n",
       "      <td>1.000</td>\n",
       "      <td>-0.016</td>\n",
       "      <td>-0.121</td>\n",
       "    </tr>\n",
       "  </tbody>\n",
       "</table>\n",
       "</div>"
      ],
      "text/plain": [
       "   wconfid  pctid      x      y      z\n",
       "0        1     20  1.004  0.090 -0.125\n",
       "1        1     20  1.004 -0.043 -0.125\n",
       "2        1     20  0.969  0.090 -0.121\n",
       "3        1     20  0.973 -0.012 -0.137\n",
       "4        1     20  1.000 -0.016 -0.121"
      ]
     },
     "execution_count": 3,
     "metadata": {},
     "output_type": "execute_result"
    }
   ],
   "source": [
    "data_linear_reg = pd.read_csv(\"../input/accelerometer/accelerometer.csv\")\n",
    "data_linear_reg.head()"
   ]
  },
  {
   "cell_type": "code",
   "execution_count": 4,
   "id": "a7aac54c",
   "metadata": {
    "execution": {
     "iopub.execute_input": "2022-02-19T21:13:01.769687Z",
     "iopub.status.busy": "2022-02-19T21:13:01.769014Z",
     "iopub.status.idle": "2022-02-19T21:13:01.794912Z",
     "shell.execute_reply": "2022-02-19T21:13:01.794246Z",
     "shell.execute_reply.started": "2022-02-19T21:12:28.894458Z"
    },
    "papermill": {
     "duration": 0.050393,
     "end_time": "2022-02-19T21:13:01.795055",
     "exception": false,
     "start_time": "2022-02-19T21:13:01.744662",
     "status": "completed"
    },
    "tags": []
   },
   "outputs": [
    {
     "name": "stdout",
     "output_type": "stream",
     "text": [
      "<class 'pandas.core.frame.DataFrame'>\n",
      "RangeIndex: 153000 entries, 0 to 152999\n",
      "Data columns (total 5 columns):\n",
      " #   Column   Non-Null Count   Dtype  \n",
      "---  ------   --------------   -----  \n",
      " 0   wconfid  153000 non-null  int64  \n",
      " 1   pctid    153000 non-null  int64  \n",
      " 2   x        153000 non-null  float64\n",
      " 3   y        153000 non-null  float64\n",
      " 4   z        153000 non-null  float64\n",
      "dtypes: float64(3), int64(2)\n",
      "memory usage: 5.8 MB\n"
     ]
    }
   ],
   "source": [
    "data_linear_reg.info()"
   ]
  },
  {
   "cell_type": "code",
   "execution_count": 5,
   "id": "a07a79e7",
   "metadata": {
    "execution": {
     "iopub.execute_input": "2022-02-19T21:13:01.847886Z",
     "iopub.status.busy": "2022-02-19T21:13:01.847190Z",
     "iopub.status.idle": "2022-02-19T21:13:01.848788Z",
     "shell.execute_reply": "2022-02-19T21:13:01.849298Z",
     "shell.execute_reply.started": "2022-02-19T21:12:28.913231Z"
    },
    "papermill": {
     "duration": 0.032442,
     "end_time": "2022-02-19T21:13:01.849470",
     "exception": false,
     "start_time": "2022-02-19T21:13:01.817028",
     "status": "completed"
    },
    "tags": []
   },
   "outputs": [],
   "source": [
    "y = data_linear_reg.wconfid.values\n",
    "X = data_linear_reg.drop([\"wconfid\"], axis = 1)"
   ]
  },
  {
   "cell_type": "code",
   "execution_count": 6,
   "id": "e7a3551e",
   "metadata": {
    "execution": {
     "iopub.execute_input": "2022-02-19T21:13:01.899564Z",
     "iopub.status.busy": "2022-02-19T21:13:01.897129Z",
     "iopub.status.idle": "2022-02-19T21:13:01.917876Z",
     "shell.execute_reply": "2022-02-19T21:13:01.918405Z",
     "shell.execute_reply.started": "2022-02-19T21:12:28.924489Z"
    },
    "papermill": {
     "duration": 0.047095,
     "end_time": "2022-02-19T21:13:01.918604",
     "exception": false,
     "start_time": "2022-02-19T21:13:01.871509",
     "status": "completed"
    },
    "tags": []
   },
   "outputs": [],
   "source": [
    "X_train, X_test, y_train, y_test = train_test_split(X,y,test_size = 0.2, random_state = 42)"
   ]
  },
  {
   "cell_type": "code",
   "execution_count": 7,
   "id": "f300a3f4",
   "metadata": {
    "execution": {
     "iopub.execute_input": "2022-02-19T21:13:01.965797Z",
     "iopub.status.busy": "2022-02-19T21:13:01.964826Z",
     "iopub.status.idle": "2022-02-19T21:13:02.014113Z",
     "shell.execute_reply": "2022-02-19T21:13:02.014951Z",
     "shell.execute_reply.started": "2022-02-19T21:12:28.961478Z"
    },
    "papermill": {
     "duration": 0.074925,
     "end_time": "2022-02-19T21:13:02.015264",
     "exception": false,
     "start_time": "2022-02-19T21:13:01.940339",
     "status": "completed"
    },
    "tags": []
   },
   "outputs": [],
   "source": [
    "liner_reg = LinearRegression()\n",
    "liner_reg.fit(X_train,y_train)\n",
    "y_head = liner_reg.predict(X_test)"
   ]
  },
  {
   "cell_type": "code",
   "execution_count": 8,
   "id": "987cee77",
   "metadata": {
    "execution": {
     "iopub.execute_input": "2022-02-19T21:13:02.106798Z",
     "iopub.status.busy": "2022-02-19T21:13:02.105714Z",
     "iopub.status.idle": "2022-02-19T21:13:02.117610Z",
     "shell.execute_reply": "2022-02-19T21:13:02.118535Z",
     "shell.execute_reply.started": "2022-02-19T21:12:29.004355Z"
    },
    "papermill": {
     "duration": 0.062666,
     "end_time": "2022-02-19T21:13:02.118825",
     "exception": false,
     "start_time": "2022-02-19T21:13:02.056159",
     "status": "completed"
    },
    "tags": []
   },
   "outputs": [
    {
     "name": "stdout",
     "output_type": "stream",
     "text": [
      "100.0 %\n"
     ]
    }
   ],
   "source": [
    "r2_score = liner_reg.score(X_test,y_head)\n",
    "print(r2_score*100,'%')"
   ]
  },
  {
   "cell_type": "markdown",
   "id": "fa3cc98d",
   "metadata": {
    "papermill": {
     "duration": 0.039836,
     "end_time": "2022-02-19T21:13:02.199404",
     "exception": false,
     "start_time": "2022-02-19T21:13:02.159568",
     "status": "completed"
    },
    "tags": []
   },
   "source": [
    "# Logistic Regression"
   ]
  },
  {
   "cell_type": "code",
   "execution_count": 9,
   "id": "3ec3b19f",
   "metadata": {
    "execution": {
     "iopub.execute_input": "2022-02-19T21:13:02.262796Z",
     "iopub.status.busy": "2022-02-19T21:13:02.262097Z",
     "iopub.status.idle": "2022-02-19T21:13:02.299975Z",
     "shell.execute_reply": "2022-02-19T21:13:02.300472Z",
     "shell.execute_reply.started": "2022-02-19T21:12:29.026674Z"
    },
    "papermill": {
     "duration": 0.065141,
     "end_time": "2022-02-19T21:13:02.300675",
     "exception": false,
     "start_time": "2022-02-19T21:13:02.235534",
     "status": "completed"
    },
    "tags": []
   },
   "outputs": [
    {
     "data": {
      "text/html": [
       "<div>\n",
       "<style scoped>\n",
       "    .dataframe tbody tr th:only-of-type {\n",
       "        vertical-align: middle;\n",
       "    }\n",
       "\n",
       "    .dataframe tbody tr th {\n",
       "        vertical-align: top;\n",
       "    }\n",
       "\n",
       "    .dataframe thead th {\n",
       "        text-align: right;\n",
       "    }\n",
       "</style>\n",
       "<table border=\"1\" class=\"dataframe\">\n",
       "  <thead>\n",
       "    <tr style=\"text-align: right;\">\n",
       "      <th></th>\n",
       "      <th>id</th>\n",
       "      <th>diagnosis</th>\n",
       "      <th>radius_mean</th>\n",
       "      <th>texture_mean</th>\n",
       "      <th>perimeter_mean</th>\n",
       "      <th>area_mean</th>\n",
       "      <th>smoothness_mean</th>\n",
       "      <th>compactness_mean</th>\n",
       "      <th>concavity_mean</th>\n",
       "      <th>concave points_mean</th>\n",
       "      <th>...</th>\n",
       "      <th>texture_worst</th>\n",
       "      <th>perimeter_worst</th>\n",
       "      <th>area_worst</th>\n",
       "      <th>smoothness_worst</th>\n",
       "      <th>compactness_worst</th>\n",
       "      <th>concavity_worst</th>\n",
       "      <th>concave points_worst</th>\n",
       "      <th>symmetry_worst</th>\n",
       "      <th>fractal_dimension_worst</th>\n",
       "      <th>Unnamed: 32</th>\n",
       "    </tr>\n",
       "  </thead>\n",
       "  <tbody>\n",
       "    <tr>\n",
       "      <th>0</th>\n",
       "      <td>842302</td>\n",
       "      <td>M</td>\n",
       "      <td>17.99</td>\n",
       "      <td>10.38</td>\n",
       "      <td>122.80</td>\n",
       "      <td>1001.0</td>\n",
       "      <td>0.11840</td>\n",
       "      <td>0.27760</td>\n",
       "      <td>0.3001</td>\n",
       "      <td>0.14710</td>\n",
       "      <td>...</td>\n",
       "      <td>17.33</td>\n",
       "      <td>184.60</td>\n",
       "      <td>2019.0</td>\n",
       "      <td>0.1622</td>\n",
       "      <td>0.6656</td>\n",
       "      <td>0.7119</td>\n",
       "      <td>0.2654</td>\n",
       "      <td>0.4601</td>\n",
       "      <td>0.11890</td>\n",
       "      <td>NaN</td>\n",
       "    </tr>\n",
       "    <tr>\n",
       "      <th>1</th>\n",
       "      <td>842517</td>\n",
       "      <td>M</td>\n",
       "      <td>20.57</td>\n",
       "      <td>17.77</td>\n",
       "      <td>132.90</td>\n",
       "      <td>1326.0</td>\n",
       "      <td>0.08474</td>\n",
       "      <td>0.07864</td>\n",
       "      <td>0.0869</td>\n",
       "      <td>0.07017</td>\n",
       "      <td>...</td>\n",
       "      <td>23.41</td>\n",
       "      <td>158.80</td>\n",
       "      <td>1956.0</td>\n",
       "      <td>0.1238</td>\n",
       "      <td>0.1866</td>\n",
       "      <td>0.2416</td>\n",
       "      <td>0.1860</td>\n",
       "      <td>0.2750</td>\n",
       "      <td>0.08902</td>\n",
       "      <td>NaN</td>\n",
       "    </tr>\n",
       "    <tr>\n",
       "      <th>2</th>\n",
       "      <td>84300903</td>\n",
       "      <td>M</td>\n",
       "      <td>19.69</td>\n",
       "      <td>21.25</td>\n",
       "      <td>130.00</td>\n",
       "      <td>1203.0</td>\n",
       "      <td>0.10960</td>\n",
       "      <td>0.15990</td>\n",
       "      <td>0.1974</td>\n",
       "      <td>0.12790</td>\n",
       "      <td>...</td>\n",
       "      <td>25.53</td>\n",
       "      <td>152.50</td>\n",
       "      <td>1709.0</td>\n",
       "      <td>0.1444</td>\n",
       "      <td>0.4245</td>\n",
       "      <td>0.4504</td>\n",
       "      <td>0.2430</td>\n",
       "      <td>0.3613</td>\n",
       "      <td>0.08758</td>\n",
       "      <td>NaN</td>\n",
       "    </tr>\n",
       "    <tr>\n",
       "      <th>3</th>\n",
       "      <td>84348301</td>\n",
       "      <td>M</td>\n",
       "      <td>11.42</td>\n",
       "      <td>20.38</td>\n",
       "      <td>77.58</td>\n",
       "      <td>386.1</td>\n",
       "      <td>0.14250</td>\n",
       "      <td>0.28390</td>\n",
       "      <td>0.2414</td>\n",
       "      <td>0.10520</td>\n",
       "      <td>...</td>\n",
       "      <td>26.50</td>\n",
       "      <td>98.87</td>\n",
       "      <td>567.7</td>\n",
       "      <td>0.2098</td>\n",
       "      <td>0.8663</td>\n",
       "      <td>0.6869</td>\n",
       "      <td>0.2575</td>\n",
       "      <td>0.6638</td>\n",
       "      <td>0.17300</td>\n",
       "      <td>NaN</td>\n",
       "    </tr>\n",
       "    <tr>\n",
       "      <th>4</th>\n",
       "      <td>84358402</td>\n",
       "      <td>M</td>\n",
       "      <td>20.29</td>\n",
       "      <td>14.34</td>\n",
       "      <td>135.10</td>\n",
       "      <td>1297.0</td>\n",
       "      <td>0.10030</td>\n",
       "      <td>0.13280</td>\n",
       "      <td>0.1980</td>\n",
       "      <td>0.10430</td>\n",
       "      <td>...</td>\n",
       "      <td>16.67</td>\n",
       "      <td>152.20</td>\n",
       "      <td>1575.0</td>\n",
       "      <td>0.1374</td>\n",
       "      <td>0.2050</td>\n",
       "      <td>0.4000</td>\n",
       "      <td>0.1625</td>\n",
       "      <td>0.2364</td>\n",
       "      <td>0.07678</td>\n",
       "      <td>NaN</td>\n",
       "    </tr>\n",
       "  </tbody>\n",
       "</table>\n",
       "<p>5 rows × 33 columns</p>\n",
       "</div>"
      ],
      "text/plain": [
       "         id diagnosis  radius_mean  texture_mean  perimeter_mean  area_mean  \\\n",
       "0    842302         M        17.99         10.38          122.80     1001.0   \n",
       "1    842517         M        20.57         17.77          132.90     1326.0   \n",
       "2  84300903         M        19.69         21.25          130.00     1203.0   \n",
       "3  84348301         M        11.42         20.38           77.58      386.1   \n",
       "4  84358402         M        20.29         14.34          135.10     1297.0   \n",
       "\n",
       "   smoothness_mean  compactness_mean  concavity_mean  concave points_mean  \\\n",
       "0          0.11840           0.27760          0.3001              0.14710   \n",
       "1          0.08474           0.07864          0.0869              0.07017   \n",
       "2          0.10960           0.15990          0.1974              0.12790   \n",
       "3          0.14250           0.28390          0.2414              0.10520   \n",
       "4          0.10030           0.13280          0.1980              0.10430   \n",
       "\n",
       "   ...  texture_worst  perimeter_worst  area_worst  smoothness_worst  \\\n",
       "0  ...          17.33           184.60      2019.0            0.1622   \n",
       "1  ...          23.41           158.80      1956.0            0.1238   \n",
       "2  ...          25.53           152.50      1709.0            0.1444   \n",
       "3  ...          26.50            98.87       567.7            0.2098   \n",
       "4  ...          16.67           152.20      1575.0            0.1374   \n",
       "\n",
       "   compactness_worst  concavity_worst  concave points_worst  symmetry_worst  \\\n",
       "0             0.6656           0.7119                0.2654          0.4601   \n",
       "1             0.1866           0.2416                0.1860          0.2750   \n",
       "2             0.4245           0.4504                0.2430          0.3613   \n",
       "3             0.8663           0.6869                0.2575          0.6638   \n",
       "4             0.2050           0.4000                0.1625          0.2364   \n",
       "\n",
       "   fractal_dimension_worst  Unnamed: 32  \n",
       "0                  0.11890          NaN  \n",
       "1                  0.08902          NaN  \n",
       "2                  0.08758          NaN  \n",
       "3                  0.17300          NaN  \n",
       "4                  0.07678          NaN  \n",
       "\n",
       "[5 rows x 33 columns]"
      ]
     },
     "execution_count": 9,
     "metadata": {},
     "output_type": "execute_result"
    }
   ],
   "source": [
    "data = pd.read_csv(\"../input/tumordataset/data.csv\")\n",
    "data.head()"
   ]
  },
  {
   "cell_type": "code",
   "execution_count": 10,
   "id": "66590dcc",
   "metadata": {
    "execution": {
     "iopub.execute_input": "2022-02-19T21:13:02.353427Z",
     "iopub.status.busy": "2022-02-19T21:13:02.352777Z",
     "iopub.status.idle": "2022-02-19T21:13:02.355363Z",
     "shell.execute_reply": "2022-02-19T21:13:02.354849Z",
     "shell.execute_reply.started": "2022-02-19T21:12:29.090808Z"
    },
    "papermill": {
     "duration": 0.031555,
     "end_time": "2022-02-19T21:13:02.355541",
     "exception": false,
     "start_time": "2022-02-19T21:13:02.323986",
     "status": "completed"
    },
    "tags": []
   },
   "outputs": [],
   "source": [
    "data.drop([\"Unnamed: 32\",\"id\"], axis =1, inplace =True)"
   ]
  },
  {
   "cell_type": "code",
   "execution_count": 11,
   "id": "240c92a8",
   "metadata": {
    "execution": {
     "iopub.execute_input": "2022-02-19T21:13:02.417628Z",
     "iopub.status.busy": "2022-02-19T21:13:02.416955Z",
     "iopub.status.idle": "2022-02-19T21:13:02.420657Z",
     "shell.execute_reply": "2022-02-19T21:13:02.421182Z",
     "shell.execute_reply.started": "2022-02-19T21:12:29.101034Z"
    },
    "papermill": {
     "duration": 0.042562,
     "end_time": "2022-02-19T21:13:02.421351",
     "exception": false,
     "start_time": "2022-02-19T21:13:02.378789",
     "status": "completed"
    },
    "tags": []
   },
   "outputs": [
    {
     "name": "stdout",
     "output_type": "stream",
     "text": [
      "<class 'pandas.core.frame.DataFrame'>\n",
      "RangeIndex: 569 entries, 0 to 568\n",
      "Data columns (total 31 columns):\n",
      " #   Column                   Non-Null Count  Dtype  \n",
      "---  ------                   --------------  -----  \n",
      " 0   diagnosis                569 non-null    int64  \n",
      " 1   radius_mean              569 non-null    float64\n",
      " 2   texture_mean             569 non-null    float64\n",
      " 3   perimeter_mean           569 non-null    float64\n",
      " 4   area_mean                569 non-null    float64\n",
      " 5   smoothness_mean          569 non-null    float64\n",
      " 6   compactness_mean         569 non-null    float64\n",
      " 7   concavity_mean           569 non-null    float64\n",
      " 8   concave points_mean      569 non-null    float64\n",
      " 9   symmetry_mean            569 non-null    float64\n",
      " 10  fractal_dimension_mean   569 non-null    float64\n",
      " 11  radius_se                569 non-null    float64\n",
      " 12  texture_se               569 non-null    float64\n",
      " 13  perimeter_se             569 non-null    float64\n",
      " 14  area_se                  569 non-null    float64\n",
      " 15  smoothness_se            569 non-null    float64\n",
      " 16  compactness_se           569 non-null    float64\n",
      " 17  concavity_se             569 non-null    float64\n",
      " 18  concave points_se        569 non-null    float64\n",
      " 19  symmetry_se              569 non-null    float64\n",
      " 20  fractal_dimension_se     569 non-null    float64\n",
      " 21  radius_worst             569 non-null    float64\n",
      " 22  texture_worst            569 non-null    float64\n",
      " 23  perimeter_worst          569 non-null    float64\n",
      " 24  area_worst               569 non-null    float64\n",
      " 25  smoothness_worst         569 non-null    float64\n",
      " 26  compactness_worst        569 non-null    float64\n",
      " 27  concavity_worst          569 non-null    float64\n",
      " 28  concave points_worst     569 non-null    float64\n",
      " 29  symmetry_worst           569 non-null    float64\n",
      " 30  fractal_dimension_worst  569 non-null    float64\n",
      "dtypes: float64(30), int64(1)\n",
      "memory usage: 137.9 KB\n"
     ]
    }
   ],
   "source": [
    "data.diagnosis = [1 if each == 'M' else 0 for each in data.diagnosis]\n",
    "data.info()"
   ]
  },
  {
   "cell_type": "code",
   "execution_count": 12,
   "id": "e6db4f3c",
   "metadata": {
    "execution": {
     "iopub.execute_input": "2022-02-19T21:13:02.473154Z",
     "iopub.status.busy": "2022-02-19T21:13:02.472468Z",
     "iopub.status.idle": "2022-02-19T21:13:02.477554Z",
     "shell.execute_reply": "2022-02-19T21:13:02.478025Z",
     "shell.execute_reply.started": "2022-02-19T21:12:29.137174Z"
    },
    "papermill": {
     "duration": 0.031997,
     "end_time": "2022-02-19T21:13:02.478205",
     "exception": false,
     "start_time": "2022-02-19T21:13:02.446208",
     "status": "completed"
    },
    "tags": []
   },
   "outputs": [],
   "source": [
    "y = data.diagnosis.values\n",
    "x_data = data.drop([\"diagnosis\"], axis = 1)"
   ]
  },
  {
   "cell_type": "markdown",
   "id": "ae96491b",
   "metadata": {
    "papermill": {
     "duration": 0.023026,
     "end_time": "2022-02-19T21:13:02.524616",
     "exception": false,
     "start_time": "2022-02-19T21:13:02.501590",
     "status": "completed"
    },
    "tags": []
   },
   "source": [
    "normalization"
   ]
  },
  {
   "cell_type": "code",
   "execution_count": 13,
   "id": "0b286462",
   "metadata": {
    "execution": {
     "iopub.execute_input": "2022-02-19T21:13:02.576784Z",
     "iopub.status.busy": "2022-02-19T21:13:02.573957Z",
     "iopub.status.idle": "2022-02-19T21:13:02.581246Z",
     "shell.execute_reply": "2022-02-19T21:13:02.581804Z",
     "shell.execute_reply.started": "2022-02-19T21:12:29.144198Z"
    },
    "papermill": {
     "duration": 0.034057,
     "end_time": "2022-02-19T21:13:02.581968",
     "exception": false,
     "start_time": "2022-02-19T21:13:02.547911",
     "status": "completed"
    },
    "tags": []
   },
   "outputs": [],
   "source": [
    "x = (x_data - np.min(x_data))/(np.max(x_data)-np.min(x_data)).values"
   ]
  },
  {
   "cell_type": "code",
   "execution_count": 14,
   "id": "47f20198",
   "metadata": {
    "execution": {
     "iopub.execute_input": "2022-02-19T21:13:02.634040Z",
     "iopub.status.busy": "2022-02-19T21:13:02.633355Z",
     "iopub.status.idle": "2022-02-19T21:13:02.637040Z",
     "shell.execute_reply": "2022-02-19T21:13:02.637542Z",
     "shell.execute_reply.started": "2022-02-19T21:12:29.164510Z"
    },
    "papermill": {
     "duration": 0.032449,
     "end_time": "2022-02-19T21:13:02.637707",
     "exception": false,
     "start_time": "2022-02-19T21:13:02.605258",
     "status": "completed"
    },
    "tags": []
   },
   "outputs": [],
   "source": [
    "x_train, x_test, y_train, y_test = train_test_split(x,y,test_size = 0.2, random_state = 42)"
   ]
  },
  {
   "cell_type": "code",
   "execution_count": 15,
   "id": "6739fc4e",
   "metadata": {
    "execution": {
     "iopub.execute_input": "2022-02-19T21:13:02.691114Z",
     "iopub.status.busy": "2022-02-19T21:13:02.687662Z",
     "iopub.status.idle": "2022-02-19T21:13:02.692926Z",
     "shell.execute_reply": "2022-02-19T21:13:02.693530Z",
     "shell.execute_reply.started": "2022-02-19T21:12:29.177123Z"
    },
    "papermill": {
     "duration": 0.032717,
     "end_time": "2022-02-19T21:13:02.693702",
     "exception": false,
     "start_time": "2022-02-19T21:13:02.660985",
     "status": "completed"
    },
    "tags": []
   },
   "outputs": [],
   "source": [
    "x_train = x_train.T\n",
    "x_test = x_test.T\n",
    "y_train = y_train.T\n",
    "y_test = y_test.T"
   ]
  },
  {
   "cell_type": "code",
   "execution_count": 16,
   "id": "3d6502c2",
   "metadata": {
    "execution": {
     "iopub.execute_input": "2022-02-19T21:13:02.743832Z",
     "iopub.status.busy": "2022-02-19T21:13:02.742865Z",
     "iopub.status.idle": "2022-02-19T21:13:02.749120Z",
     "shell.execute_reply": "2022-02-19T21:13:02.749614Z",
     "shell.execute_reply.started": "2022-02-19T21:12:29.192756Z"
    },
    "papermill": {
     "duration": 0.032789,
     "end_time": "2022-02-19T21:13:02.749779",
     "exception": false,
     "start_time": "2022-02-19T21:13:02.716990",
     "status": "completed"
    },
    "tags": []
   },
   "outputs": [
    {
     "name": "stdout",
     "output_type": "stream",
     "text": [
      "x_train (30, 455)\n",
      "x_test (30, 114)\n",
      "y_train (455,)\n",
      "y_test (114,)\n"
     ]
    }
   ],
   "source": [
    "print(\"x_train\", x_train.shape)\n",
    "print(\"x_test\", x_test.shape)\n",
    "print(\"y_train\", y_train.shape)\n",
    "print(\"y_test\", y_test.shape)"
   ]
  },
  {
   "cell_type": "code",
   "execution_count": 17,
   "id": "7be4098a",
   "metadata": {
    "execution": {
     "iopub.execute_input": "2022-02-19T21:13:02.800978Z",
     "iopub.status.busy": "2022-02-19T21:13:02.800044Z",
     "iopub.status.idle": "2022-02-19T21:13:02.829120Z",
     "shell.execute_reply": "2022-02-19T21:13:02.829966Z",
     "shell.execute_reply.started": "2022-02-19T21:12:29.204900Z"
    },
    "papermill": {
     "duration": 0.056857,
     "end_time": "2022-02-19T21:13:02.830228",
     "exception": false,
     "start_time": "2022-02-19T21:13:02.773371",
     "status": "completed"
    },
    "tags": []
   },
   "outputs": [
    {
     "name": "stdout",
     "output_type": "stream",
     "text": [
      "test accuracy 0.9824561403508771\n"
     ]
    }
   ],
   "source": [
    "log_r = LogisticRegression()\n",
    "log_r.fit(x_train.T, y_train.T)\n",
    "print(\"test accuracy {}\".format(log_r.score(x_test.T,y_test.T)))"
   ]
  },
  {
   "cell_type": "code",
   "execution_count": null,
   "id": "893f9582",
   "metadata": {
    "papermill": {
     "duration": 0.043743,
     "end_time": "2022-02-19T21:13:02.917957",
     "exception": false,
     "start_time": "2022-02-19T21:13:02.874214",
     "status": "completed"
    },
    "tags": []
   },
   "outputs": [],
   "source": []
  }
 ],
 "metadata": {
  "kernelspec": {
   "display_name": "Python 3",
   "language": "python",
   "name": "python3"
  },
  "language_info": {
   "codemirror_mode": {
    "name": "ipython",
    "version": 3
   },
   "file_extension": ".py",
   "mimetype": "text/x-python",
   "name": "python",
   "nbconvert_exporter": "python",
   "pygments_lexer": "ipython3",
   "version": "3.7.12"
  },
  "papermill": {
   "default_parameters": {},
   "duration": 13.684471,
   "end_time": "2022-02-19T21:13:03.664376",
   "environment_variables": {},
   "exception": null,
   "input_path": "__notebook__.ipynb",
   "output_path": "__notebook__.ipynb",
   "parameters": {},
   "start_time": "2022-02-19T21:12:49.979905",
   "version": "2.3.3"
  }
 },
 "nbformat": 4,
 "nbformat_minor": 5
}
